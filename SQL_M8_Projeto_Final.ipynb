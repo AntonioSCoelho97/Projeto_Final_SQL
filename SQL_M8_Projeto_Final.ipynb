{
 "cells": [
  {
   "cell_type": "markdown",
   "metadata": {
    "id": "KJqp9AANOCtf"
   },
   "source": [
    "<img src=\"https://raw.githubusercontent.com/andre-marcos-perez/ebac-course-utils/main/media/logo/newebac_logo_black_half.png\" alt=\"ebac-logo\">\n",
    "\n",
    "---\n",
    "\n",
    "# **Módulo** | SQL: Projeto\n",
    "<br> \n",
    "\n",
    "Aluno: [Antônio Coelho](https://www.linkedin.com/in/antonio-coelho-datascience/)\n",
    "\n",
    "Data: 18 de novembro de 2024\n",
    "\n",
    "---"
   ]
  },
  {
   "cell_type": "markdown",
   "metadata": {
    "id": "d9jDtUbDOE1-"
   },
   "source": [
    "# **Índice**\n",
    "\n",
    "- [**Os dados**](#Dados:)  \n",
    "\n",
    "- [**1. Criação da tabela**](#1.-Criação-da-tabela)  \n",
    "\n",
    "- [**2. Análise Exploratória dos dados**](#2.-Análise-Exploratória-dados)  \n",
    "\n",
    "> - [2.1 Visualização](#2.1-Visualização-da-tabela)  \n",
    "\n",
    "> - [2.2 Quantidade de linhas no dataset](#2.2-Quantidade-de-linhas-no-dataset)  \n",
    "\n",
    "> - [2.3 Tipos de dados em cada coluna](#2.3-Tipos-de-dados-em-cada-coluna)  \n",
    "\n",
    "> - [2.4 Categorias da variável *escolaridade*](#2.4-Categorias-da-variável-escolaridade)  \n",
    "> - [2.5 Salários anuais únicos](#2.5-Salários_anuais_únicos)  \n",
    "> - [2.6 Distribuição de Frequência por Categoria da Variável *sexo*](#2.6-variável-sexo)  \n",
    "\n",
    "> - [2.7 Limite máximo de crédito de acordo com o tipo de cartão, sexo e escolaridade](#2.7-limite-credito)  \n",
    "> - [2.8 Valor Máximo e Médio das Transações no Último Ano por Sexo](#2.8-max-medio-transacao)  \n",
    "> - [2.9 Produtos e Transações por Sexo e Salário](#2.9-produto-transacao)  \n",
    "\n",
    "\n",
    "- [**3. Conclusão**](#3.-Conclusão:)\n",
    "\n",
    "- [**4. Links úteis**](#4.-Link_úteis:)"
   ]
  },
  {
   "cell_type": "markdown",
   "metadata": {
    "id": "SmoHgt-lwkpD"
   },
   "source": [
    "# **Dados:**\n",
    "\n",
    "Os dados contidos no arquivo **credito8.csv** representam informações de clientes de um banco e contam com as seguintes colunas:\n",
    "\n",
    "* idade = idade do cliente\n",
    "* sexo = sexo do cliente (F ou M)\n",
    "* dependentes = número de dependentes do cliente\n",
    "* escolaridade = nível de escolaridade do clientes\n",
    "* salario_anual = faixa salarial do cliente\n",
    "* tipo_cartao = tipo de cartao do cliente\n",
    "* qtd_produtos = quantidade de produtos comprados nos últimos 12 meses\n",
    "* iteracoes_12m = quantidade de iterações/transacoes nos ultimos 12 meses\n",
    "* meses_inativo_12m = quantidade de meses que o cliente ficou inativo\n",
    "* limite_credito = limite de credito do cliente\n",
    "* valor_transacoes_12m = valor das transações dos ultimos 12 meses\n",
    "* qtd_transacoes_12m = quantidade de transacoes dos ultimos 12 meses\n",
    "\n",
    "A tabela foi criada no AWS Athena junto com o S3 Bucket com uma versão dos dados disponibilizados em: https://github.com/andre-marcos-perez/ebac-course-utils/tree/main/dataset\n"
   ]
  },
  {
   "cell_type": "markdown",
   "metadata": {},
   "source": [
    "[Voltar ao índice](#Índice)"
   ]
  },
  {
   "cell_type": "markdown",
   "metadata": {
    "id": "vvlBORqbTPQp"
   },
   "source": [
    "---"
   ]
  },
  {
   "cell_type": "markdown",
   "metadata": {
    "id": "ym_TsGX5_6Nd"
   },
   "source": [
    "# **1.-Criação-da-tabela**\n",
    "\n",
    "Siga os seguintes passos para criação da tabela:\n",
    "\n",
    "* Crie uma pasta bucket-coelho-ebac-final no seu S3 e carregue o arquivo **credito8.csv**\n",
    "* Volta para o AWS Athena e execute o seguinte comando:\n",
    "\n",
    "```sql\n",
    "CREATE EXTERNAL TABLE IF NOT EXISTS default.credito ( \n",
    "  `idade` int,\n",
    "  `sexo` string,\n",
    "  `dependentes` int,\n",
    "  `escolaridade` string,\n",
    "  `estado_civil` string,\n",
    "  `salario_anual` string,\n",
    "  `tipo_cartao` string, \n",
    "  `qtd_produtos` bigint,\n",
    "  `iteracoes_12m` int,\n",
    "  `meses_inativo_12m` int,\n",
    "  `limite_credito` float,\n",
    "  `valor_transacoes_12m` float,\n",
    "  `qtd_transacoes_12m` int \n",
    ")\n",
    "ROW FORMAT SERDE 'org.apache.hadoop.hive.serde2.lazy.LazySimpleSerDe'\n",
    "WITH SERDEPROPERTIES (\n",
    "  'serialization.format' = ',',\n",
    "  'field.delim' = ','\n",
    ") LOCATION 's3://bucket-coelho-ebac-final/'\n",
    "TBLPROPERTIES ('has_encrypted_data'='false');\n",
    "```\n",
    "\n",
    "Utilizaremos a tabela para o projeto.\n",
    "\n",
    "[Voltar ao índice](#Índice)"
   ]
  },
  {
   "cell_type": "markdown",
   "metadata": {},
   "source": [
    "# **2.-Análise-Exploratória-dados**\n",
    "\n",
    "[Voltar ao índice](#Índice)"
   ]
  },
  {
   "cell_type": "markdown",
   "metadata": {},
   "source": [
    "## **2.1-Visualização-da-tabela**\n",
    "\n",
    "> **Query 1:** Como são os dados?\n",
    "\n",
    "```sql\n",
    "select * from credito limit 10;\n",
    "```\n",
    "\n",
    "![Dez primeiras linhas do dataset](https://github.com/AntonioSCoelho97/Projeto_Final_SQL/blob/main/Imagens_SQL/consulta_tabela_crédito.png?raw=true)\n",
    "\n",
    "[Voltar ao índice](#Índice)"
   ]
  },
  {
   "cell_type": "markdown",
   "metadata": {},
   "source": [
    "## **2.2-Quantidade-de-linhas-no-dataset**\n",
    "\n",
    "> **Query 2:** Qual a quantidade de informações que temos na nossa base de dados?\n",
    "\n",
    "```sql\n",
    "select count(*) from credito;\n",
    "```\n",
    "\n",
    "![Quantidade linhas do dataset](https://github.com/AntonioSCoelho97/Projeto_Final_SQL/blob/main/Imagens_SQL/qtde_linhas_tabela.png?raw=true)\n",
    "\n",
    "[Voltar ao índice](#Índice)"
   ]
  },
  {
   "cell_type": "markdown",
   "metadata": {},
   "source": [
    "## **2.3-Tipos-de-dados-em-cada-coluna**\n",
    "\n",
    "> **Query 3:** Quais os tipos de cada dado?\n",
    "\n",
    "```sql\n",
    "DESCRIBE credito;\n",
    "```\n",
    "\n",
    "![Descrição_variáveis](https://github.com/AntonioSCoelho97/Projeto_Final_SQL/blob/main/Imagens_SQL/descrição_tabela.png?raw=true)\n",
    "\n",
    "[Voltar ao índice](#Índice)"
   ]
  },
  {
   "cell_type": "markdown",
   "metadata": {},
   "source": [
    "## **2.4-Categorias-da-variável-escolaridade**\n",
    "\n",
    "> **Query 4:** Quais são os tipos de escolaridade disponíveis no dataset?\n",
    "\n",
    "```sql\n",
    "SELECT DISTINCT escolaridade FROM credito;\n",
    "```\n",
    "\n",
    "![Categorias_escolaridade](https://github.com/AntonioSCoelho97/Projeto_Final_SQL/blob/main/Imagens_SQL/categorias_escolaridade.png?raw=true)\n",
    "\n",
    "[Voltar ao índice](#Índice)"
   ]
  },
  {
   "cell_type": "markdown",
   "metadata": {},
   "source": [
    "## **2.5-Salários_anuais_únicos**\n",
    "\n",
    "> **Query 5:** Nesse banco de dados, quantos clientes temos de cada faixa salarial?\n",
    "\n",
    "```sql\n",
    "select count(*), salario_anual from credito group by salario_anual;\n",
    "```\n",
    "\n",
    "![Maiores créditos](https://github.com/AntonioSCoelho97/Projeto_Final_SQL/blob/main/Imagens_SQL/qtde_clientes_salário.png?raw=true)\n",
    "\n",
    "[Voltar ao índice](#Índice)"
   ]
  },
  {
   "cell_type": "markdown",
   "metadata": {},
   "source": [
    "## **2.6-variável-sexo**\n",
    "\n",
    "> **Query 6:** Nesse banco de dados, quantos clientes são homens e quantos são mulheres?\n",
    "\n",
    "```sql\n",
    "select count(*), sexo from credito group by sexo;\n",
    "```\n",
    "\n",
    "![Quantidade clientes por sexo](https://github.com/AntonioSCoelho97/Projeto_Final_SQL/blob/main/Imagens_SQL/qtde_clientes_sexo.png?raw=true)\n",
    "\n",
    "[Voltar ao índice](#Índice)"
   ]
  },
  {
   "cell_type": "markdown",
   "metadata": {},
   "source": [
    "## **2.7-limite-credito**\n",
    "\n",
    "> **Query 7:** Quais as características dos clientes que possuem os maiores creditos?\n",
    "\n",
    "```sql\n",
    "select max(limite_credito) as limite_credito, escolaridade, tipo_cartao, sexo from credito \n",
    "where escolaridade != 'na' and tipo_cartao != 'na' \n",
    "group by escolaridade, tipo_cartao, sexo \n",
    "order by limite_credito desc \n",
    "limit 10;\n",
    "```\n",
    "\n",
    "![Limites de crédito](https://github.com/AntonioSCoelho97/Projeto_Final_SQL/blob/main/Imagens_SQL/maiores_créditos.png?raw=true)\n",
    "\n",
    "[Voltar ao índice](#Índice)"
   ]
  },
  {
   "cell_type": "markdown",
   "metadata": {},
   "source": [
    "## **2.8-max-medio-transacao**\n",
    "\n",
    "> **Query 8:** Quem gasta mais? homens ou mulheres?\n",
    "\n",
    "```sql\n",
    "select max(valor_transacoes_12m) as maior_valor_gasto, avg(valor_transacoes_12m) as media_valor_gasto, min(valor_transacoes_12m) as min_valor_gasto, sexo \r\n",
    "from credito \r\n",
    "group by sexo;\n",
    "```\n",
    "\n",
    "![Gasto por sexo](https://github.com/AntonioSCoelho97/Projeto_Final_SQL/blob/main/Imagens_SQL/gasto_por_sexo.png?raw=true)\n",
    "\n",
    "[Voltar ao índice](#Índice)"
   ]
  },
  {
   "cell_type": "markdown",
   "metadata": {},
   "source": [
    "## **2.9-produto-transacao**\n",
    "\n",
    "> **Query 9:** O salário impacta no limite?\n",
    "\n",
    "```sql\n",
    "select avg(qtd_produtos) as qts_produtos, avg(valor_transacoes_12m) as media_valor_transacoes, avg(limite_credito) as media_limite, sexo, salario_anual \r\n",
    "from credito \r\n",
    "where salario_anual != 'na' \r\n",
    "group by sexo, salario_anual \r\n",
    "order by avg(valor_transacoes_12m) desc;\n",
    "```\n",
    "\n",
    "![Salario e limite de credito](https://github.com/AntonioSCoelho97/Projeto_Final_SQL/blob/main/Imagens_SQL/salário_e_limite_crédito.png?raw=true)\n",
    "\n",
    "[Voltar ao índice](#Índice)"
   ]
  },
  {
   "cell_type": "markdown",
   "metadata": {},
   "source": [
    "# **3.-Conclusão:**\n",
    "\n",
    "- A base de dados apresenta 2.564 linhas;\n",
    "- As colunas (variáveis explicativas e variável resposta) estão assim estruturadas: valores monetários com *float*, quantidades como *int* e variáveis categóricas (texto) como *string*;\n",
    "- Há registro de valores do tipo *'na'* na base de dados;\n",
    "- A coluna escolaridade está divida em 06 (seis) categorias: sem educação formal, ensino médio, graduação, mestrado, doutorado e na;\n",
    "- A faixa salarial mais presente é a *'menos que 40k'* com aproximadamente 27,34% e a menos presente é a *'120k +'* com aproximadamente 8,65%;\n",
    "- Os clientes do sexo masculino representam aproximadamente 1,5 vezes os clientes do sexo feminino;\n",
    "- As 10 (dez) primeiras linhas para os maiores limites de crédito apresentam 80% do sexo masculino, sem mostrar uma relação clara com as variáveis escolaridade e tipo de cartão;\n",
    "- Não há evidências de que as mulheres gastem mais que os homens nesta base de dados; e\n",
    "- A variável salário anual apresenta correlação positiva com a variável limite de crédito.\n",
    "\n",
    "[Voltar ao índice](#Índice)"
   ]
  },
  {
   "cell_type": "markdown",
   "metadata": {
    "id": "qDxe2l4cMcVa"
   },
   "source": [
    "# **4.-Link_úteis:**\n",
    "\n",
    "* Kaggle: https://www.kaggle.com/ \r\n",
    "* Portfólio projeto: https://www.kaggle.com/code/antonioscoelho97/trabalho-sql-ebac\r\n",
    "* Linkedlin: https://www.linkedin.com/feed/\r\n",
    "* GitHub: https://github.com/\r\n",
    "* Dados originais - gitHub André Perez: https://github.com/andre-marcos-perez/ebac-course-utils\r\n",
    "* Imagens do gitHub - Antônio Coelho: https://github.com/AntonioSCoelho97/Projeto_Final_SQL/tree/main/Imagens_SQL\r\n",
    "* AWS Athena: https://aws.amazon.com/pt/athena/?whats-new-cards.sort-by=item.additionalFields.postDateTime&whats-new-cards.sort-order=desc \n",
    "\n",
    "[Voltar ao índice](#Índice)"
   ]
  },
  {
   "cell_type": "code",
   "execution_count": null,
   "metadata": {},
   "outputs": [],
   "source": []
  }
 ],
 "metadata": {
  "colab": {
   "collapsed_sections": [],
   "name": "modulo_8_exercicio.ipynb",
   "provenance": [],
   "toc_visible": true
  },
  "kernelspec": {
   "display_name": "Python 3 (ipykernel)",
   "language": "python",
   "name": "python3"
  },
  "language_info": {
   "codemirror_mode": {
    "name": "ipython",
    "version": 3
   },
   "file_extension": ".py",
   "mimetype": "text/x-python",
   "name": "python",
   "nbconvert_exporter": "python",
   "pygments_lexer": "ipython3",
   "version": "3.11.9"
  }
 },
 "nbformat": 4,
 "nbformat_minor": 4
}
